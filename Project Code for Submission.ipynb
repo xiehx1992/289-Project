{
 "cells": [
  {
   "cell_type": "code",
   "execution_count": 90,
   "metadata": {
    "collapsed": true
   },
   "outputs": [],
   "source": [
    "import numpy as np\n",
    "from sklearn.feature_extraction.text import CountVectorizer\n",
    "import glob\n",
    "from sklearn import preprocessing\n",
    "import random\n",
    "import numpy.linalg as linalg\n",
    "import scipy as scipy\n",
    "import scipy.io\n",
    "import matplotlib.pyplot as plt\n",
    "import math"
   ]
  },
  {
   "cell_type": "code",
   "execution_count": 91,
   "metadata": {
    "collapsed": false
   },
   "outputs": [],
   "source": [
    "file1=glob.glob(\"/Users/maoyizhi/Documents/Berkeley/CS289A/Project/20_newsgroups/alt.atheism/*\")\n",
    "file2=glob.glob(\"/Users/maoyizhi/Documents/Berkeley/CS289A/Project/20_newsgroups/comp.graphics/*\")"
   ]
  },
  {
   "cell_type": "code",
   "execution_count": 92,
   "metadata": {
    "collapsed": false
   },
   "outputs": [],
   "source": [
    "mail1=[]\n",
    "for s in file1:\n",
    "    txt=open(s,\"r\",encoding='utf-8',errors='ignore').read().split()\n",
    "    string=\" \".join([i for i in txt if not i.isdigit()])\n",
    "    mail1.append(string)\n",
    "\n",
    "mail2=[]\n",
    "for s in file2:\n",
    "    txt=open(s,\"r\",encoding='utf-8',errors='ignore').read().split()\n",
    "    string=\" \".join([i for i in txt if not i.isdigit()])\n",
    "    mail2.append(string)\n",
    "\n",
    "mail=mail1+mail2"
   ]
  },
  {
   "cell_type": "code",
   "execution_count": 93,
   "metadata": {
    "collapsed": false
   },
   "outputs": [
    {
     "name": "stderr",
     "output_type": "stream",
     "text": [
      "//anaconda/lib/python3.5/site-packages/sklearn/utils/validation.py:429: DataConversionWarning: Data with input dtype int64 was converted to float64 by the normalize function.\n",
      "  warnings.warn(msg, _DataConversionWarning)\n"
     ]
    }
   ],
   "source": [
    "# get the term-document matrix\n",
    "count_vec=CountVectorizer(ngram_range=(1,1),max_features=1000)\n",
    "counts=count_vec.fit_transform(mail).toarray()\n",
    "count_normal=preprocessing.normalize(counts, axis=0)"
   ]
  },
  {
   "cell_type": "code",
   "execution_count": 94,
   "metadata": {
    "collapsed": false
   },
   "outputs": [],
   "source": [
    "label = np.append(np.repeat(0,len(mail1)),np.repeat(1,len(mail2)))\n",
    "data = np.asarray([np.append(count_normal[i],label[i]) for i in range(len(count_normal))])\n",
    "x = data[:,:-1]\n",
    "y = data[:,-1]"
   ]
  },
  {
   "cell_type": "code",
   "execution_count": 95,
   "metadata": {
    "collapsed": true
   },
   "outputs": [],
   "source": [
    "# normalize features\n",
    "from sklearn import preprocessing\n",
    "m = preprocessing.normalize(x,axis=0)"
   ]
  },
  {
   "cell_type": "code",
   "execution_count": null,
   "metadata": {
    "collapsed": true
   },
   "outputs": [],
   "source": []
  },
  {
   "cell_type": "code",
   "execution_count": null,
   "metadata": {
    "collapsed": true
   },
   "outputs": [],
   "source": [
    "# =========== Subgradient Descent ================"
   ]
  },
  {
   "cell_type": "code",
   "execution_count": 96,
   "metadata": {
    "collapsed": false
   },
   "outputs": [],
   "source": [
    "# initialize\n",
    "w = np.zeros(x.shape[1])\n",
    "lamb = 0.05\n",
    "alpha = 0.05\n",
    "s = 1/(1+np.exp(-np.dot(m,w)))\n",
    "best_cost = lamb*linalg.norm(w,ord=1)-np.dot(y,np.log(s))-np.dot((1-y),np.log(1-s))\n",
    "best_w = w\n",
    "cost_total_subg = []"
   ]
  },
  {
   "cell_type": "code",
   "execution_count": 97,
   "metadata": {
    "collapsed": false
   },
   "outputs": [],
   "source": [
    "for i in np.arange(10000):\n",
    "    s = 1/(1+np.exp(-np.dot(m,w)))\n",
    "    s[s==1]=0.99999\n",
    "    s[s==0]=0.00001\n",
    "    subgradient_w = np.sign(w)*lamb\n",
    "    subgradient_w[subgradient_w==0] = np.random.uniform(-1,1,size=np.sum(subgradient_w==0))*lamb\n",
    "    w = w - alpha*(subgradient_w-np.dot(np.transpose(m),(y-s)))\n",
    "    cost_new = lamb*linalg.norm(w,ord=1)-np.dot(y,np.log(s))-np.dot((1-y),np.log(1-s))\n",
    "    \n",
    "    if cost_new < best_cost:\n",
    "        best_cost = cost_new\n",
    "        best_w = w\n",
    "    \n",
    "    cost_total_subg.append(best_cost)\n",
    "    # print(best_cost)\n",
    "    if best_cost <= 320:\n",
    "        num_iteration_sub = i+1\n",
    "        break"
   ]
  },
  {
   "cell_type": "code",
   "execution_count": 98,
   "metadata": {
    "collapsed": false
   },
   "outputs": [
    {
     "data": {
      "text/plain": [
       "398"
      ]
     },
     "execution_count": 98,
     "metadata": {},
     "output_type": "execute_result"
    }
   ],
   "source": [
    "# number of iteration it takes to reach cost function <= 320\n",
    "num_iteration_sub"
   ]
  },
  {
   "cell_type": "code",
   "execution_count": 106,
   "metadata": {
    "collapsed": false
   },
   "outputs": [
    {
     "data": {
      "image/png": "[encoded data removed]",
      "text/plain": [
       "<matplotlib.figure.Figure at 0x11df7dc88>"
      ]
     },
     "metadata": {},
     "output_type": "display_data"
    }
   ],
   "source": [
    "plt.plot(cost_total_subg)\n",
    "plt.title('Subgradient Method: Loss vs Iteration')\n",
    "plt.xlabel('Iterations')\n",
    "plt.ylabel('Cost')\n",
    "plt.grid()\n",
    "plt.show()"
   ]
  },
  {
   "cell_type": "code",
   "execution_count": 22,
   "metadata": {
    "collapsed": false,
    "scrolled": false
   },
   "outputs": [
    {
     "data": {
      "text/plain": [
       "77"
      ]
     },
     "execution_count": 22,
     "metadata": {},
     "output_type": "execute_result"
    }
   ],
   "source": [
    "# number of weight between -10^(-3) and 10^(-3)\n",
    "np.sum((best_w < 0.001)*1*((best_w > -0.001)*1))"
   ]
  },
  {
   "cell_type": "code",
   "execution_count": null,
   "metadata": {
    "collapsed": true
   },
   "outputs": [],
   "source": []
  },
  {
   "cell_type": "code",
   "execution_count": null,
   "metadata": {
    "collapsed": true
   },
   "outputs": [],
   "source": [
    "# ISTA"
   ]
  },
  {
   "cell_type": "code",
   "execution_count": 100,
   "metadata": {
    "collapsed": true
   },
   "outputs": [],
   "source": [
    "# tau function\n",
    "def tau(alpha, weight):\n",
    "    k=np.shape(weight)[0]\n",
    "    j= np.multiply(np.maximum(np.absolute(weight.reshape(k,1)) - alpha, np.zeros((k,1))),np.sign(weight.reshape(k,1)))\n",
    "    return j.reshape(k,1)"
   ]
  },
  {
   "cell_type": "code",
   "execution_count": 101,
   "metadata": {
    "collapsed": false
   },
   "outputs": [],
   "source": [
    "# calculate optimal step size for ISTA FISTA\n",
    "eval_max = np.linalg.svd(np.dot(m.T,m))[1][1]\n",
    "step_size = 1/(4*eval_max)"
   ]
  },
  {
   "cell_type": "code",
   "execution_count": 102,
   "metadata": {
    "collapsed": false
   },
   "outputs": [],
   "source": [
    "cost_ISTA = []\n",
    "lamb = 0.05\n",
    "t = step_size\n",
    "cost=list()\n",
    "w = np.zeros((x.shape[1],1))\n",
    "for i in range(10000):\n",
    "    s = 1/(1+np.exp(-np.dot(m,w)))\n",
    "    s[s==1]=0.99999\n",
    "    s[s==0]=0.00001\n",
    "    n = w + t*np.dot(np.transpose(m),(y.reshape(-1,1)-s))\n",
    "    w = tau(lamb*t,n)\n",
    "    current_cost = -np.dot(y,np.log(s))-np.dot((1-y),np.log(1-s))+lamb*np.linalg.norm(w,ord = 1)\n",
    "    cost_ISTA.append(current_cost)\n",
    "    \n",
    "    # stop if reach 320\n",
    "    if current_cost <= 320:\n",
    "        num_iteration_ISTA = i+1\n",
    "        break"
   ]
  },
  {
   "cell_type": "code",
   "execution_count": 103,
   "metadata": {
    "collapsed": false
   },
   "outputs": [
    {
     "data": {
      "text/plain": [
       "5783"
      ]
     },
     "execution_count": 103,
     "metadata": {},
     "output_type": "execute_result"
    }
   ],
   "source": [
    "# number of iteration it takes to reach cost function <= 320\n",
    "num_iteration_ISTA"
   ]
  },
  {
   "cell_type": "code",
   "execution_count": 107,
   "metadata": {
    "collapsed": false
   },
   "outputs": [
    {
     "data": {
      "image/png": "[encoded data removed]",
      "text/plain": [
       "<matplotlib.figure.Figure at 0x11e003a58>"
      ]
     },
     "metadata": {},
     "output_type": "display_data"
    }
   ],
   "source": [
    "plt.plot(cost_ISTA)\n",
    "#plt.legend(['SubGradient Descent','ISTA '],loc = 'upper right')\n",
    "plt.title('ISTA: Loss versus Iteration')\n",
    "plt.xlabel('Iterations')\n",
    "plt.ylabel('Cost')\n",
    "plt.grid()\n",
    "plt.show()"
   ]
  },
  {
   "cell_type": "code",
   "execution_count": null,
   "metadata": {
    "collapsed": true
   },
   "outputs": [],
   "source": []
  },
  {
   "cell_type": "code",
   "execution_count": null,
   "metadata": {
    "collapsed": true
   },
   "outputs": [],
   "source": [
    "# subgradient with decaying learning rate is slow (e.g: 0.05 lambda/k)\n",
    "# here we are not considering the decaying learning rate\n",
    "# ISTA fixed step size"
   ]
  },
  {
   "cell_type": "code",
   "execution_count": null,
   "metadata": {
    "collapsed": true
   },
   "outputs": [],
   "source": []
  },
  {
   "cell_type": "code",
   "execution_count": null,
   "metadata": {
    "collapsed": true
   },
   "outputs": [],
   "source": [
    "# ======================= FISTA ==============="
   ]
  },
  {
   "cell_type": "code",
   "execution_count": 30,
   "metadata": {
    "collapsed": false
   },
   "outputs": [],
   "source": [
    "def PL(x, lamb, t):\n",
    "    s = 1/(1+np.exp(-np.dot(m,x)))\n",
    "    s[s==1]=0.99999999999\n",
    "    s[s==0]=0.00000000001\n",
    "    x_fn = x + t*np.dot(np.transpose(m),(y.reshape(-1,1)-s))\n",
    "    return tau(lamb*t,x_fn)"
   ]
  },
  {
   "cell_type": "code",
   "execution_count": 105,
   "metadata": {
    "collapsed": false
   },
   "outputs": [
    {
     "data": {
      "text/plain": [
       "0.0034300241662903815"
      ]
     },
     "execution_count": 105,
     "metadata": {},
     "output_type": "execute_result"
    }
   ],
   "source": [
    "step_size"
   ]
  },
  {
   "cell_type": "code",
   "execution_count": 31,
   "metadata": {
    "collapsed": false,
    "scrolled": false
   },
   "outputs": [
    {
     "name": "stderr",
     "output_type": "stream",
     "text": [
      "//anaconda/lib/python3.5/site-packages/ipykernel/__main__.py:9: RuntimeWarning: overflow encountered in exp\n",
      "//anaconda/lib/python3.5/site-packages/ipykernel/__main__.py:2: RuntimeWarning: overflow encountered in exp\n",
      "  from ipykernel import kernelapp as app\n"
     ]
    }
   ],
   "source": [
    "# FISTA\n",
    "cost_FISTA = []\n",
    "lamb = 0.05\n",
    "t = step_size\n",
    "w = np.zeros((x.shape[1],1))\n",
    "v = w\n",
    "for i in range(700):\n",
    "    \n",
    "    s = 1/(1+np.exp(-np.dot(m,w)))\n",
    "    s[s==1]=0.9999\n",
    "    s[s==0]=0.0001\n",
    "    \n",
    "    # update w, t, v\n",
    "    w_old = np.copy(w)\n",
    "    w = PL(v, lamb, t)\n",
    "    t_old = np.copy(t)\n",
    "    t = ((1+4*(t**2))**0.5+1)/2\n",
    "    v = w + ((t_old-1)/t)*(w - w_old)\n",
    "    \n",
    "    # calculate cost\n",
    "    current_cost = -np.dot(y,np.log(s))-np.dot((1-y),np.log(1-s))+lamb*np.linalg.norm(w,ord=1)\n",
    "    #print(current_cost)\n",
    "    cost_FISTA.append(current_cost)\n",
    "    \n",
    "    if current_cost < 320:\n",
    "        num_iteration_FISTA = i+1\n",
    "        break"
   ]
  },
  {
   "cell_type": "code",
   "execution_count": 32,
   "metadata": {
    "collapsed": false
   },
   "outputs": [
    {
     "data": {
      "text/plain": [
       "23"
      ]
     },
     "execution_count": 32,
     "metadata": {},
     "output_type": "execute_result"
    }
   ],
   "source": [
    "# number of iteration it takes to reach cost function <= 320\n",
    "num_iteration_FISTA"
   ]
  },
  {
   "cell_type": "code",
   "execution_count": 108,
   "metadata": {
    "collapsed": false
   },
   "outputs": [
    {
     "data": {
      "image/png": "[encoded data removed]",
      "text/plain": [
       "<matplotlib.figure.Figure at 0x10ddf3780>"
      ]
     },
     "metadata": {},
     "output_type": "display_data"
    }
   ],
   "source": [
    "plt.plot(cost_FISTA)\n",
    "plt.title('FISTA: Loss versus Iterations')\n",
    "plt.xlabel('Iterations')\n",
    "plt.ylabel('Cost')\n",
    "plt.grid()\n",
    "plt.show()"
   ]
  },
  {
   "cell_type": "code",
   "execution_count": 40,
   "metadata": {
    "collapsed": false
   },
   "outputs": [],
   "source": [
    "# ======== Comparison =============\n",
    "itr = [num_iteration_sub, num_iteration_ISTA, num_iteration_FISTA]"
   ]
  },
  {
   "cell_type": "code",
   "execution_count": 41,
   "metadata": {
    "collapsed": false
   },
   "outputs": [
    {
     "data": {
      "text/plain": [
       "[398, 5783, 23]"
      ]
     },
     "execution_count": 41,
     "metadata": {},
     "output_type": "execute_result"
    }
   ],
   "source": [
    "itr"
   ]
  }
 ],
 "metadata": {
  "anaconda-cloud": {},
  "kernelspec": {
   "display_name": "Python [default]",
   "language": "python",
   "name": "python3"
  },
  "language_info": {
   "codemirror_mode": {
    "name": "ipython",
    "version": 3
   },
   "file_extension": ".py",
   "mimetype": "text/x-python",
   "name": "python",
   "nbconvert_exporter": "python",
   "pygments_lexer": "ipython3",
   "version": "3.5.2"
  }
 },
 "nbformat": 4,
 "nbformat_minor": 1
}
